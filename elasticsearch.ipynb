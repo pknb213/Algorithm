{
 "cells": [
  {
   "cell_type": "code",
   "execution_count": 18,
   "metadata": {
    "collapsed": true,
    "pycharm": {
     "is_executing": false
    }
   },
   "outputs": [
    {
     "data": {
      "text/plain": "{'name': 'els-2',\n 'cluster_name': 'elk-bigdata',\n 'cluster_uuid': 'J9cMv8YXRkeq0ThyNLAYYQ',\n 'version': {'number': '7.6.1',\n  'build_flavor': 'default',\n  'build_type': 'tar',\n  'build_hash': 'aa751e09be0a5072e8570670309b1f12348f023b',\n  'build_date': '2020-02-29T00:15:25.529771Z',\n  'build_snapshot': False,\n  'lucene_version': '8.4.0',\n  'minimum_wire_compatibility_version': '6.8.0',\n  'minimum_index_compatibility_version': '6.0.0-beta1'},\n 'tagline': 'You Know, for Search'}"
     },
     "metadata": {},
     "output_type": "execute_result",
     "execution_count": 18
    }
   ],
   "source": [
    "from elasticsearch import Elasticsearch\n",
    "from elasticsearch import helpers\n",
    "import random\n",
    "import datetime\n",
    "\n",
    "es = Elasticsearch([\"52.79.236.72:9200\", \"52.79.136.180:9200\", \"15.164.170.224:9200\"])\n",
    "es.info()"
   ]
  },
  {
   "cell_type": "code",
   "execution_count": 7,
   "outputs": [
    {
     "name": "stdout",
     "text": [
      "{'acknowledged': True, 'shards_acknowledged': True, 'index': 'python_test'}\n"
     ],
     "output_type": "stream"
    }
   ],
   "source": [
    "def make_index(es, index_name):\n",
    "    if es.indices.exists(index=index_name):\n",
    "        es.indices.delete(index=index_name)\n",
    "    print(es.indices.create(index=index_name))\n",
    "    \n",
    "index_name = \"python_test\"\n",
    "make_index(es, index_name)"
   ],
   "metadata": {
    "collapsed": false,
    "pycharm": {
     "name": "#%%\n",
     "is_executing": false
    }
   }
  },
  {
   "cell_type": "code",
   "execution_count": null,
   "outputs": [],
   "source": [
    "doc = {\n",
    "    \n",
    "}\n",
    "\n",
    "es.index(index=index_name, doc_type='string', body=doc)\n",
    "es.indices.refresh(index=index_name)"
   ],
   "metadata": {
    "collapsed": false,
    "pycharm": {
     "name": "#%%\n"
    }
   }
  },
  {
   "cell_type": "code",
   "execution_count": null,
   "outputs": [],
   "source": [
    "res = es.search(index=index_name, body={'from':0, \n",
    "                                        'size': 10, \n",
    "                                        'query': {'match': { }}\n",
    "                                        })\n",
    "for r in res['hits']['hits']:\n",
    "    print('score : ', res['_score'], 'source : ', res['_source'])\n",
    "\n",
    "print(\"res : \", res)"
   ],
   "metadata": {
    "collapsed": false,
    "pycharm": {
     "name": "#%%\n"
    }
   }
  },
  {
   "cell_type": "code",
   "execution_count": 22,
   "outputs": [
    {
     "name": "stdout",
     "text": [
      "{'index': 'test-air-832', '_source': {'deviceId': 21391, 'anomalyDetection': 2, 'preDetection': 1, 'failureDiagnosis': 1, 'asAccept': '', 'temp': 21, 'humi': 60, 'mac': 'A1051'}, 'fields': {'@timestamp': '2020-04-28T15:44:34.117036'}}\n",
      "{'index': 'test-air-830', '_source': {'deviceId': 21674, 'anomalyDetection': 2, 'preDetection': 2, 'failureDiagnosis': 1, 'asAccept': '', 'temp': 20, 'humi': 67, 'mac': 'B1348'}, 'fields': {'@timestamp': '2020-05-03T02:02:34.117036'}}\n",
      "{'index': 'test-air-830', '_source': {'deviceId': 22868, 'anomalyDetection': 2, 'preDetection': 2, 'failureDiagnosis': 2, 'asAccept': '', 'temp': 29, 'humi': 70, 'mac': 'C1363'}, 'fields': {'@timestamp': '2020-05-21T00:56:34.117036'}}\n"
     ],
     "output_type": "stream"
    }
   ],
   "source": [
    "for i in range(0,3):\n",
    "    asAccept = random.choice([\"\",\"접수\",\"수리중\",\"배송중\",\"완료\"])\n",
    "    if asAccept == None:\n",
    "        print(\"넌~\")\n",
    "    test = {\n",
    "        # random.randomrange(x,y), random.choice(object)\n",
    "        \"index\" : random.choice([\"test-air-830\",\"test-air-831\",\"test-air-832\"]),\n",
    "        \"_source\": {\n",
    "            \"deviceId\": random.randrange(20000, 23000),\n",
    "            \"anomalyDetection\": random.randint(1,2),\n",
    "            \"preDetection\": random.randint(1,2),\n",
    "            \"failureDiagnosis\": random.randint(1,2),\n",
    "            \"asAccept\": random.choice([\"\",\"접수\",\"수리중\",\"배송중\",\"완료\"]),\n",
    "            \"temp\": random.randrange(20, 30),\n",
    "            \"humi\": random.randrange(10,80),\n",
    "            \"mac\": random.choice([\"A\",\"B\",\"C\",\"D\",\"E\",\"F\",\"G\"]) + str(random.randrange(1000,2000)),\n",
    "            \"userAge\": random.randint(20, 50)\n",
    "            \"userGender\": random.choice([\"M\", \"F\"])\n",
    "        },\n",
    "        \"fields\": {\n",
    "            \"@timestamp\": str((datetime.datetime.utcnow() - datetime.timedelta(\n",
    "                days=random.randint(0,31), \n",
    "                hours=random.randint(0,24),\n",
    "                minutes=random.randint(0,60))).isoformat())\n",
    "        }\n",
    "    }\n",
    "    print(test)\n",
    "\n"
   ],
   "metadata": {
    "collapsed": false,
    "pycharm": {
     "name": "#%%\n",
     "is_executing": false
    }
   }
  }
 ],
 "metadata": {
  "kernelspec": {
   "display_name": "Python 3",
   "language": "python",
   "name": "python3"
  },
  "language_info": {
   "codemirror_mode": {
    "name": "ipython",
    "version": 2
   },
   "file_extension": ".py",
   "mimetype": "text/x-python",
   "name": "python",
   "nbconvert_exporter": "python",
   "pygments_lexer": "ipython2",
   "version": "2.7.6"
  },
  "pycharm": {
   "stem_cell": {
    "cell_type": "raw",
    "source": [],
    "metadata": {
     "collapsed": false
    }
   }
  }
 },
 "nbformat": 4,
 "nbformat_minor": 0
}
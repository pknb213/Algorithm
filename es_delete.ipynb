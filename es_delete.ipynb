{
 "cells": [
  {
   "cell_type": "code",
   "execution_count": 3,
   "metadata": {
    "collapsed": true,
    "pycharm": {
     "is_executing": false
    }
   },
   "outputs": [],
   "source": [
    "from elasticsearch import Elasticsearch\n",
    "from elasticsearch import helpers\n",
    "import pprint\n",
    "\n",
    "es = Elasticsearch([\"13.125.246.197\", \"52.79.215.253\", \"52.79.250.228\"],\n",
    "                   http_auth=('elastic', 'rkwjs12#'),\n",
    "                   port=9200)\n",
    "es.info()\n",
    "pp = pprint.PrettyPrinter(indent=4)"
   ]
  },
  {
   "cell_type": "code",
   "execution_count": null,
   "outputs": [],
   "source": [
    "res = es.search(index=\"iot-skmagic\", body={'from':0, \n",
    "                                        'size': 1, \n",
    "                                        \"query\": {\n",
    "                                            \"match_all\":{}\n",
    "                                         }\n",
    "                                        })\n",
    "\n",
    "pp.pprint(res)"
   ],
   "metadata": {
    "collapsed": false,
    "pycharm": {
     "name": "#%%\n"
    }
   }
  },
  {
   "cell_type": "code",
   "execution_count": null,
   "outputs": [],
   "source": [
    "res = es.delete_by_query(index=\"iot-skmagic\", body={\n",
    "                                           'query':{\"range\": \n",
    "                                               {\n",
    "                                                  \"offset\": {\n",
    "                                                    \"gt\": \"1338851\",\n",
    "                                                    \"lte\": \"1339851\"\n",
    "                                                  }\n",
    "                                                }\n",
    "                                           }\n",
    "})\n",
    "pp.pprint(res)"
   ],
   "metadata": {
    "collapsed": false,
    "pycharm": {
     "name": "#%%\n"
    }
   }
  },
  {
   "cell_type": "code",
   "execution_count": null,
   "outputs": [],
   "source": [
    "res = es.search(index=\"iot-skmagic\", body={\n",
    "    'size': 10000,\n",
    "    'query': {\n",
    "        \"match_all\": {}\n",
    "    }\n",
    "})\n",
    "print(len(res['hits']['hits']))\n",
    "# pp.pprint(res['hits']['hits'])"
   ],
   "metadata": {
    "collapsed": false,
    "pycharm": {
     "name": "#%%\n"
    }
   }
  },
  {
   "cell_type": "code",
   "execution_count": 4,
   "outputs": [
    {
     "name": "stdout",
     "text": [
      "Before : 446147015\n",
      "25000  Search ~ 0:00:02.004347\n",
      "Time :  0:00:04.088918 Delete Count :  50000\n",
      ">> After :  0 446147015 446097016 0\n",
      "Before : 446097016\n",
      "25000  Search ~ 0:00:25.599279\n",
      "Time :  0:00:04.632111 Delete Count :  50000\n",
      ">> After :  1 446097016 446047017 0\n",
      "Before : 446047017\n",
      "25000  Search ~ 0:00:51.620423\n",
      "Time :  0:00:04.139364 Delete Count :  50000\n",
      ">> After :  2 446047017 445997018 0\n",
      "Before : 445997018\n",
      "25000  Search ~ 0:01:18.112013\n",
      "Time :  0:00:04.271879 Delete Count :  50000\n",
      ">> After :  3 445997018 445947019 0\n",
      "Before : 445947019\n",
      "25000  Search ~ 0:01:44.645834\n",
      "Time :  0:00:04.524694 Delete Count :  50000\n",
      ">> After :  4 445947019 445897020 0\n",
      "Before : 445897020\n",
      "25000  Search ~ 0:02:11.495841\n",
      "Time :  0:00:05.859495 Delete Count :  50000\n"
     ],
     "output_type": "stream"
    },
    {
     "traceback": [
      "\u001b[1;31m---------------------------------------------------------------------------\u001b[0m",
      "\u001b[1;31mKeyboardInterrupt\u001b[0m                         Traceback (most recent call last)",
      "\u001b[1;32m<ipython-input-4-8a38b143543c>\u001b[0m in \u001b[0;36m<module>\u001b[1;34m\u001b[0m\n\u001b[0;32m     43\u001b[0m     \u001b[0mclient\u001b[0m\u001b[1;33m.\u001b[0m\u001b[0mindices\u001b[0m\u001b[1;33m.\u001b[0m\u001b[0mIndicesClient\u001b[0m\u001b[1;33m.\u001b[0m\u001b[0mrefresh\u001b[0m\u001b[1;33m(\u001b[0m\u001b[0mself\u001b[0m\u001b[1;33m=\u001b[0m\u001b[0mes\u001b[0m\u001b[1;33m,\u001b[0m\u001b[0mindex\u001b[0m\u001b[1;33m=\u001b[0m\u001b[1;34m'iot-skmagic'\u001b[0m\u001b[1;33m)\u001b[0m\u001b[1;33m\u001b[0m\u001b[1;33m\u001b[0m\u001b[0m\n\u001b[0;32m     44\u001b[0m     \u001b[1;32mwhile\u001b[0m \u001b[1;36m1\u001b[0m\u001b[1;33m:\u001b[0m\u001b[1;33m\u001b[0m\u001b[1;33m\u001b[0m\u001b[0m\n\u001b[1;32m---> 45\u001b[1;33m         \u001b[0mtime\u001b[0m\u001b[1;33m.\u001b[0m\u001b[0msleep\u001b[0m\u001b[1;33m(\u001b[0m\u001b[1;36m1\u001b[0m\u001b[1;33m)\u001b[0m\u001b[1;33m\u001b[0m\u001b[1;33m\u001b[0m\u001b[0m\n\u001b[0m\u001b[0;32m     46\u001b[0m         \u001b[0mres\u001b[0m \u001b[1;33m=\u001b[0m \u001b[0mes\u001b[0m\u001b[1;33m.\u001b[0m\u001b[0mcount\u001b[0m\u001b[1;33m(\u001b[0m\u001b[0mindex\u001b[0m\u001b[1;33m=\u001b[0m\u001b[1;34m\"iot-skmagic\"\u001b[0m\u001b[1;33m)\u001b[0m\u001b[1;33m[\u001b[0m\u001b[1;34m'count'\u001b[0m\u001b[1;33m]\u001b[0m\u001b[1;33m\u001b[0m\u001b[1;33m\u001b[0m\u001b[0m\n\u001b[0;32m     47\u001b[0m         \u001b[1;32mif\u001b[0m \u001b[0mNUMBER_OF_DELETION\u001b[0m\u001b[1;33m-\u001b[0m\u001b[1;36m1\u001b[0m\u001b[1;33m-\u001b[0m\u001b[1;33m(\u001b[0m\u001b[0ma\u001b[0m\u001b[1;33m-\u001b[0m\u001b[0mres\u001b[0m\u001b[1;33m)\u001b[0m \u001b[1;33m==\u001b[0m \u001b[1;36m0\u001b[0m\u001b[1;33m:\u001b[0m\u001b[1;33m\u001b[0m\u001b[1;33m\u001b[0m\u001b[0m\n",
      "\u001b[1;31mKeyboardInterrupt\u001b[0m: "
     ],
     "ename": "KeyboardInterrupt",
     "evalue": "",
     "output_type": "error"
    }
   ],
   "source": [
    "from elasticsearch import client\n",
    "from datetime import datetime\n",
    "import time\n",
    "st = datetime.now()\n",
    "body = {\n",
    "    \"query\": {\n",
    "        \"match_all\": {}\n",
    "    },\n",
    "    \"sort\": [\"_doc\"]\n",
    "}\n",
    "s = es.count(index='iot-skmagic')['count']\n",
    "for i in range(0,200):\n",
    "    es = Elasticsearch([\"13.125.246.197\", \"52.79.215.253\", \"52.79.250.228\"],\n",
    "                       http_auth=('elastic', 'rkwjs12#'),\n",
    "                       port=9200)\n",
    "    scroller = helpers.scan(client=es, query=body, index='iot-skmagic') \n",
    "    at = datetime.now()\n",
    "    a = es.count(index='iot-skmagic')['count']\n",
    "    print(\"Before :\", a)\n",
    "    c = 1\n",
    "    NUMBER_OF_DELETION = 50000\n",
    "    id_list = []\n",
    "    body2 = {\n",
    "        'query': {\n",
    "            'terms': {\n",
    "                \"_id\": id_list\n",
    "            }\n",
    "        }\n",
    "    }\n",
    "    for sc in scroller:\n",
    "        if c >= NUMBER_OF_DELETION:\n",
    "            break\n",
    "        elif c % (NUMBER_OF_DELETION/2) == 0:\n",
    "            print(c, \" Search ~\", datetime.now() - st)\n",
    "        # pp.pprint(sc)\n",
    "        # es.delete(index='iot-skmagic', id=sc['_id'])\n",
    "        id_list.append(sc['_id'])\n",
    "        c += 1\n",
    "    # time.sleep(10)\n",
    "    # while len(id_list) != NUMBER_OF_DELETION-1\n",
    "    res = es.delete_by_query(index='iot-skmagic', body=body2, wait_for_completion=False)\n",
    "    print(\"Time : \", datetime.now() - at, \"Delete Count : \", c)\n",
    "    client.indices.IndicesClient.refresh(self=es,index='iot-skmagic')\n",
    "    while 1:\n",
    "        time.sleep(1)\n",
    "        res = es.count(index=\"iot-skmagic\")['count']\n",
    "        if NUMBER_OF_DELETION-1-(a-res) == 0:\n",
    "            break\n",
    "    print(\">> After : \", i, a, res, NUMBER_OF_DELETION-1-(a-res))\n",
    "print(\">> END :\", s, res, datetime.now() - st)"
   ],
   "metadata": {
    "collapsed": false,
    "pycharm": {
     "name": "#%%\n",
     "is_executing": false
    }
   }
  },
  {
   "cell_type": "code",
   "execution_count": 161,
   "outputs": [
    {
     "name": "stdout",
     "text": [
      "447546987 447446989 -49999\n"
     ],
     "output_type": "stream"
    }
   ],
   "source": [
    "res = es.count(index=\"iot-skmagic\")['count']\n",
    "print(a, res, NUMBER_OF_DELETION-1-(a-res))"
   ],
   "metadata": {
    "collapsed": false,
    "pycharm": {
     "name": "#%%\n",
     "is_executing": false
    }
   }
  }
 ],
 "metadata": {
  "kernelspec": {
   "display_name": "Python 3",
   "language": "python",
   "name": "python3"
  },
  "language_info": {
   "codemirror_mode": {
    "name": "ipython",
    "version": 2
   },
   "file_extension": ".py",
   "mimetype": "text/x-python",
   "name": "python",
   "nbconvert_exporter": "python",
   "pygments_lexer": "ipython2",
   "version": "2.7.6"
  },
  "pycharm": {
   "stem_cell": {
    "cell_type": "raw",
    "source": [],
    "metadata": {
     "collapsed": false
    }
   }
  }
 },
 "nbformat": 4,
 "nbformat_minor": 0
}
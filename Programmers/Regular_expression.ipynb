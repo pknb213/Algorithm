{
 "cells": [
  {
   "cell_type": "code",
   "execution_count": 1,
   "metadata": {
    "collapsed": true
   },
   "outputs": [
    {
     "name": "stdout",
     "output_type": "stream",
     "text": [
      "121.235.251.53\n",
      "121.235.251.53\n"
     ]
    },
    {
     "data": {
      "text/plain": "True"
     },
     "execution_count": 1,
     "metadata": {},
     "output_type": "execute_result"
    }
   ],
   "source": [
    "import re\n",
    "\n",
    "in_ip = [\"121.235.251.53\"]\n",
    "\n",
    "def is_true(arr):\n",
    "    for a in arr:\n",
    "        print(a)\n",
    "        aa = re.match(r\"^\\d{1,3}\\.\\d{1,3}\\.\\d{1,3}\\.\\d{1,3}$\", a)\n",
    "        if aa:\n",
    "            ip = aa.group()\n",
    "            print(ip)\n",
    "        else:\n",
    "            print(\"ㅜㅁㅜ\")\n",
    "\n",
    "    return True\n",
    "\n",
    "is_true(in_ip)"
   ]
  }
 ],
 "metadata": {
  "kernelspec": {
   "display_name": "Python 3",
   "language": "python",
   "name": "python3"
  },
  "language_info": {
   "codemirror_mode": {
    "name": "ipython",
    "version": 2
   },
   "file_extension": ".py",
   "mimetype": "text/x-python",
   "name": "python",
   "nbconvert_exporter": "python",
   "pygments_lexer": "ipython2",
   "version": "2.7.6"
  }
 },
 "nbformat": 4,
 "nbformat_minor": 0
}
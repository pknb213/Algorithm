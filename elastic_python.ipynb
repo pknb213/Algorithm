{
 "cells": [
  {
   "cell_type": "code",
   "execution_count": null,
   "outputs": [],
   "source": [
    "def make_index(es, index_name):\n",
    "    if es.indices.exists(index=index_name):\n",
    "        es.indices.delete(index=index_name)\n",
    "    print(es.indices.create(index=index_name))\n",
    "    \n",
    "# index_name = \"python_test\"\n",
    "# make_index(es, index_name)\n"
   ],
   "metadata": {
    "collapsed": false,
    "pycharm": {
     "name": "#%%\n"
    }
   }
  },
  {
   "cell_type": "code",
   "execution_count": 22,
   "outputs": [
    {
     "name": "stdout",
     "text": [
      "E N D\n"
     ],
     "output_type": "stream"
    }
   ],
   "source": [
    "from elasticsearch import Elasticsearch\n",
    "from elasticsearch import helpers\n",
    "import random\n",
    "import datetime\n",
    "\n",
    "es = Elasticsearch([\"13.125.246.197:9200\", \"52.79.215.253:9200\", \"52.79.250.228:9200\"])\n",
    "es.info()\n",
    "\n",
    "for i in range(0,30000):\n",
    "    asAccept = random.choice([\"\",\"접수\",\"수리중\",\"배송중\",\"완료\"])\n",
    "    if asAccept == None:\n",
    "        print(\"넌~\")\n",
    "    failureDiagnosis = random.choices(range(1,4), weights=[5,3,1])[0]\n",
    "    if failureDiagnosis == 2 or failureDiagnosis == 3:\n",
    "        error = 2\n",
    "        if failureDiagnosis == 2:\n",
    "            preDetection = 2\n",
    "            symptom = random.choices(range(1,7), weights=[4,3,2,2,2,1])[0]\n",
    "        else:\n",
    "            preDetection = 1\n",
    "            symptom = 0\n",
    "    else:\n",
    "        error = 1\n",
    "        preDetection = 1\n",
    "        symptom = 0\n",
    "    iot_set = {\n",
    "        # random.randomrange(x,y), random.choice(object)\n",
    "        \"index\" : random.choice([\"test-air-830\",\"test-air-831\",\"test-air-832\"]),\n",
    "        \"deviceId\": random.randrange(20000, 23000),\n",
    "        \"anomalyDetection\": random.choices(range(1,3), weights=[9,2])[0], # 이상 감지\n",
    "        \"preDetection\": preDetection,      # 사전 감지\n",
    "        \"failureDiagnosis\": failureDiagnosis,     #고장 진단\n",
    "        \"asAccept\": random.choices([\"\",\"접수\",\"수리중\",\"배송중\"], weights=[8,2,1,1])[0],\n",
    "        \"temp\": random.randrange(20, 30),\n",
    "        \"humi\": random.randrange(10,80),\n",
    "        \"mac\": random.choice([\"A\",\"B\"]) + str(random.randrange(1000,2000)),\n",
    "        \"userAge\": random.randint(20, 50),\n",
    "        \"userGender\": random.choices([\"M\", \"F\"], weights=[1,2.6])[0],\n",
    "        \"store\": random.randint(1,5),\n",
    "        \"symptom\": symptom,\n",
    "        \"locations\": {\n",
    "            \"lon\": str(random.uniform(126.734086, 127.269311)),\n",
    "            \"lat\": str(random.uniform(37.413294, 37.715133))\n",
    "        },\n",
    "        \"reqTime\": str((datetime.datetime.utcnow() - datetime.timedelta(\n",
    "            days=random.randint(0,31), \n",
    "            hours=random.randint(0,24),\n",
    "            minutes=random.randint(0,60))).isoformat())\n",
    "    }\n",
    "    as_set = {\n",
    "        # random.randomrange(x,y), random.choice(object)\n",
    "        \"index\" : random.choice([\"test-air-830\",\"test-air-831\",\"test-air-832\"]),\n",
    "        \"regist_number\": random.randint(1000, 1050),\n",
    "        \"receipt\": random.randint(1,3),\n",
    "        \"locations\": {\n",
    "            \"lon\": str(random.uniform(126.734086, 127.269311)),\n",
    "            \"lat\": str(random.uniform(37.413294, 37.715133))\n",
    "        },\n",
    "        \"reqTime\": str((datetime.datetime.utcnow() - datetime.timedelta(\n",
    "            days=random.randint(0,31), \n",
    "            hours=random.randint(0,24),\n",
    "            minutes=random.randint(0,60))).isoformat())\n",
    "        \n",
    "    }\n",
    "    # print(iot_set)\n",
    "    # print(as_set)\n",
    "\n",
    "    es.index(index=\"python_iot_test\", body=iot_set)\n",
    "    es.index(index=\"python_as_test\", body=as_set)\n",
    "\n",
    "es.indices.refresh(index=\"python_iot_test\")\n",
    "es.indices.refresh(index=\"python_as_test\")\n",
    "print(\"E N D\")"
   ],
   "metadata": {
    "collapsed": false,
    "pycharm": {
     "name": "#%%#%%\n",
     "is_executing": false
    }
   }
  },
  {
   "cell_type": "code",
   "execution_count": 8,
   "outputs": [
    {
     "name": "stdout",
     "text": [
      "{'locations': {'lon': '127.231231234', 'lat': '37.16246243423'}, 'reqTime': '202006122131123'}\n",
      "{'_index': 'python_test', '_type': '_doc', '_id': 'JU7Gp3IBnVWJz4pLcwdO', '_version': 1, 'result': 'created', '_shards': {'total': 2, 'successful': 2, 'failed': 0}, '_seq_no': 14, '_primary_term': 1}\n"
     ],
     "output_type": "stream"
    }
   ],
   "source": [
    "doc = {\n",
    "    \"locations\": {\n",
    "                \"lon\": '127.231231234',\n",
    "                \"lat\": '37.16246243423'\n",
    "    },\n",
    "    \"reqTime\": '202006122131123'\n",
    "}\n",
    "print(doc)\n",
    "res = es.index(index=\"python_test\", body=doc)\n",
    "es.indices.refresh(index=\"python_test\")\n",
    "print(res)"
   ],
   "metadata": {
    "collapsed": false,
    "pycharm": {
     "name": "#%%\n",
     "is_executing": false
    }
   }
  },
  {
   "cell_type": "code",
   "execution_count": null,
   "outputs": [],
   "source": [],
   "metadata": {
    "collapsed": false,
    "pycharm": {
     "name": "#%%\n"
    }
   }
  },
  {
   "cell_type": "code",
   "execution_count": 5,
   "outputs": [
    {
     "name": "stdout",
     "text": [
      "{   '_shards': {'failed': 0, 'skipped': 0, 'successful': 1, 'total': 1},\n",
      "    'hits': {   'hits': [   {   '_id': 'TdTsoHIBeEMtbexDFGjn',\n",
      "                                '_index': 'python_test',\n",
      "                                '_score': 1.0,\n",
      "                                '_source': {   'locations': {   'lat': '37.7150888',\n",
      "                                                                'lon': '127.018236'},\n",
      "                                               'reqTime': '2020-06-11T01:08:44.702028'},\n",
      "                                '_type': '_doc'},\n",
      "                            {   '_id': 'gUPsoHIBnVWJz4pLYOkq',\n",
      "                                '_index': 'python_test',\n",
      "                                '_score': 1.0,\n",
      "                                '_source': {   'locations': {   'lat': '37.4441409',\n",
      "                                                                'lon': '126.871353'},\n",
      "                                               'reqTime': '2020-06-11T01:09:03.971990'},\n",
      "                                '_type': '_doc'},\n",
      "                            {   '_id': 'BPLsoHIBIXxCXJjCY4SG',\n",
      "                                '_index': 'python_test',\n",
      "                                '_score': 1.0,\n",
      "                                '_source': {   'locations': {   'lat': '37.5142027',\n",
      "                                                                'lon': '126.890977'},\n",
      "                                               'reqTime': '2020-06-11T01:09:04.837661'},\n",
      "                                '_type': '_doc'},\n",
      "                            {   '_id': 'XtTsoHIBeEMtbexDaGgp',\n",
      "                                '_index': 'python_test',\n",
      "                                '_score': 1.0,\n",
      "                                '_source': {   'locations': {   'lat': '37.6673820',\n",
      "                                                                'lon': '127.098204'},\n",
      "                                               'reqTime': '2020-06-11T01:09:06.020075'},\n",
      "                                '_type': '_doc'},\n",
      "                            {   '_id': 'tEPsoHIBnVWJz4pLbOkQ',\n",
      "                                '_index': 'python_test',\n",
      "                                '_score': 1.0,\n",
      "                                '_source': {   'locations': {   'lat': '37.5999965',\n",
      "                                                                'lon': '126.927394'},\n",
      "                                               'reqTime': '2020-06-11T01:09:07.015003'},\n",
      "                                '_type': '_doc'},\n",
      "                            {   '_id': 'mkPkoHIBnVWJz4pL7-HB',\n",
      "                                '_index': 'python_test',\n",
      "                                '_score': 1.0,\n",
      "                                '_source': {   'locations': {   'lat': '37.50133747090645',\n",
      "                                                                'lon': '126.93854740056962'}},\n",
      "                                '_type': '_doc'},\n",
      "                            {   '_id': 'uPLnoHIBIXxCXJjCCnwj',\n",
      "                                '_index': 'python_test',\n",
      "                                '_score': 1.0,\n",
      "                                '_source': {   'locations': {   'lat': '37.48187159663546',\n",
      "                                                                'lon': '127.12980846668027'}},\n",
      "                                '_type': '_doc'},\n",
      "                            {   '_id': 'gtTooHIBeEMtbexDr2ck',\n",
      "                                '_index': 'python_test',\n",
      "                                '_score': 1.0,\n",
      "                                '_source': {   'locations': {   'lat': '37.60206961950821',\n",
      "                                                                'lon': '126.83136010386374'}},\n",
      "                                '_type': '_doc'},\n",
      "                            {   '_id': 'LkPpoHIBnVWJz4pLMOV5',\n",
      "                                '_index': 'python_test',\n",
      "                                '_score': 1.0,\n",
      "                                '_source': {   'locations': {   'lat': '37.6749904',\n",
      "                                                                'lon': '126.773576'}},\n",
      "                                '_type': '_doc'},\n",
      "                            {   '_id': 'DvLpoHIBIXxCXJjCa4DD',\n",
      "                                '_index': 'python_test',\n",
      "                                '_score': 1.0,\n",
      "                                '_source': {   'locations': {   'lat': '37.5567603',\n",
      "                                                                'lon': '127.187399'}},\n",
      "                                '_type': '_doc'}],\n",
      "                'max_score': 1.0,\n",
      "                'total': {'relation': 'eq', 'value': 14}},\n",
      "    'timed_out': False,\n",
      "    'took': 1}\n"
     ],
     "output_type": "stream"
    },
    {
     "traceback": [
      "\u001b[1;31m---------------------------------------------------------------------------\u001b[0m",
      "\u001b[1;31mKeyError\u001b[0m                                  Traceback (most recent call last)",
      "\u001b[1;32m<ipython-input-5-053ef16f0a7a>\u001b[0m in \u001b[0;36m<module>\u001b[1;34m\u001b[0m\n\u001b[0;32m     12\u001b[0m \u001b[1;33m\u001b[0m\u001b[0m\n\u001b[0;32m     13\u001b[0m \u001b[1;32mfor\u001b[0m \u001b[0mr\u001b[0m \u001b[1;32min\u001b[0m \u001b[0mres\u001b[0m\u001b[1;33m[\u001b[0m\u001b[1;34m'hits'\u001b[0m\u001b[1;33m]\u001b[0m\u001b[1;33m[\u001b[0m\u001b[1;34m'hits'\u001b[0m\u001b[1;33m]\u001b[0m\u001b[1;33m:\u001b[0m\u001b[1;33m\u001b[0m\u001b[1;33m\u001b[0m\u001b[0m\n\u001b[1;32m---> 14\u001b[1;33m     \u001b[0mprint\u001b[0m\u001b[1;33m(\u001b[0m\u001b[1;34m'score : '\u001b[0m\u001b[1;33m,\u001b[0m \u001b[0mres\u001b[0m\u001b[1;33m[\u001b[0m\u001b[1;34m'_score'\u001b[0m\u001b[1;33m]\u001b[0m\u001b[1;33m,\u001b[0m \u001b[1;34m'source : '\u001b[0m\u001b[1;33m,\u001b[0m \u001b[0mres\u001b[0m\u001b[1;33m[\u001b[0m\u001b[1;34m'_source'\u001b[0m\u001b[1;33m]\u001b[0m\u001b[1;33m)\u001b[0m\u001b[1;33m\u001b[0m\u001b[1;33m\u001b[0m\u001b[0m\n\u001b[0m\u001b[0;32m     15\u001b[0m \u001b[1;33m\u001b[0m\u001b[0m\n\u001b[0;32m     16\u001b[0m \u001b[1;33m\u001b[0m\u001b[0m\n",
      "\u001b[1;31mKeyError\u001b[0m: '_score'"
     ],
     "ename": "KeyError",
     "evalue": "'_score'",
     "output_type": "error"
    }
   ],
   "source": [
    "from elasticsearch import Elasticsearch\n",
    "import pprint\n",
    "\n",
    "es = Elasticsearch([\"13.125.246.197:9200\", \"52.79.215.253:9200\", \"52.79.250.228:9200\"])\n",
    "es.info()\n",
    "res = es.search(index=\"python_test\", body={'from':0, \n",
    "                                        'size': 10, \n",
    "                                        'query': {'match_all': { }}\n",
    "                                        })\n",
    "pp = pprint.PrettyPrinter(indent=4)\n",
    "pp.pprint(res)\n",
    "\n",
    "for r in res['hits']['hits']:\n",
    "    print('score : ', res['_score'], 'source : ', res['_source'])\n",
    "\n",
    "\n",
    "\n"
   ],
   "metadata": {
    "collapsed": false,
    "pycharm": {
     "name": "#%%\n",
     "is_executing": false
    }
   }
  }
 ],
 "metadata": {
  "kernelspec": {
   "display_name": "Python 3",
   "language": "python",
   "name": "python3"
  },
  "language_info": {
   "codemirror_mode": {
    "name": "ipython",
    "version": 2
   },
   "file_extension": ".py",
   "mimetype": "text/x-python",
   "name": "python",
   "nbconvert_exporter": "python",
   "pygments_lexer": "ipython2",
   "version": "2.7.6"
  },
  "pycharm": {
   "stem_cell": {
    "cell_type": "raw",
    "source": [],
    "metadata": {
     "collapsed": false
    }
   }
  }
 },
 "nbformat": 4,
 "nbformat_minor": 0
}
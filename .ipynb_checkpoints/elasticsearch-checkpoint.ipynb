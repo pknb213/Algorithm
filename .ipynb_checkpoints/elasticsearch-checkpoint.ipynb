{
 "cells": [
  {
   "cell_type": "code",
   "execution_count": null,
   "metadata": {
    "pycharm": {
     "is_executing": true
    }
   },
   "outputs": [],
   "source": [
    "from elasticsearch import Elasticsearch\n",
    "from elasticsearch import helpers\n",
    "import random\n",
    "import datetime\n",
    "\n",
    "es = Elasticsearch([\"52.79.236.72:9200\", \"52.79.136.180:9200\", \"15.164.170.224:9200\"])\n",
    "es.info()"
   ]
  },
  {
   "cell_type": "code",
   "execution_count": null,
   "metadata": {
    "pycharm": {
     "is_executing": true,
     "name": "#%%\n"
    }
   },
   "outputs": [],
   "source": [
    "def make_index(es, index_name):\n",
    "    if es.indices.exists(index=index_name):\n",
    "        es.indices.delete(index=index_name)\n",
    "    print(es.indices.create(index=index_name))\n",
    "    \n",
    "index_name = \"python_test\"\n",
    "make_index(es, index_name)"
   ]
  },
  {
   "cell_type": "code",
   "execution_count": null,
   "metadata": {
    "pycharm": {
     "is_executing": true,
     "name": "#%%\n"
    }
   },
   "outputs": [],
   "source": [
    "doc = {\n",
    "    \n",
    "}\n",
    "\n",
    "es.index(index=index_name, doc_type='string', body=doc)\n",
    "es.indices.refresh(index=index_name)"
   ]
  },
  {
   "cell_type": "code",
   "execution_count": null,
   "metadata": {
    "pycharm": {
     "is_executing": true,
     "name": "#%%\n"
    }
   },
   "outputs": [],
   "source": [
    "res = es.search(index=index_name, body={'from':0, \n",
    "                                        'size': 10, \n",
    "                                        'query': {'match': { }}\n",
    "                                        })\n",
    "for r in res['hits']['hits']:\n",
    "    print('score : ', res['_score'], 'source : ', res['_source'])\n",
    "\n",
    "print(\"res : \", res)"
   ]
  },
  {
   "cell_type": "code",
   "execution_count": null,
   "metadata": {
    "pycharm": {
     "is_executing": true,
     "name": "#%%\n"
    }
   },
   "outputs": [],
   "source": [
    "for i in range(0,3):\n",
    "    asAccept = random.choice([\"\",\"접수\",\"수리중\",\"배송중\",\"완료\"])\n",
    "    if asAccept == None:\n",
    "        print(\"넌~\")\n",
    "    test = {\n",
    "        # random.randomrange(x,y), random.choice(object)\n",
    "        \"_index\" : random.choice([\"test-air-830\",\"test-air-831\",\"test-air-832\"]),\n",
    "        \"_source\": {\n",
    "            \"deviceId\": random.randrange(20000, 23000),\n",
    "            \"anomalyDetection\": random.choice(range(1,2), weights=[9,1]),\n",
    "            \"preDetection\": random.choice(range(1,2), weights=[9,1]),\n",
    "            \"failureDiagnosis\": random.choice(range(1,2), weights=[9,1]),\n",
    "            \"asAccept\": random.choice([\"\",\"접수\",\"수리중\",\"배송중\",\"완료\"], weights=[8,1,1,1,1]),\n",
    "            \"temp\": random.randrange(20, 30),\n",
    "            \"humi\": random.randrange(10,80),\n",
    "            \"mac\": random.choice([\"A\",\"B\"]) + str(random.randrange(1000,2000)),\n",
    "            \"userAge\": random.randint(20, 50)\n",
    "            \"userGender\": random.choice([\"M\", \"F\"])\n",
    "        },\n",
    "        \"fields\": {\n",
    "            \"@timestamp\": str((datetime.datetime.utcnow() - datetime.timedelta(\n",
    "                days=random.randint(0,31), \n",
    "                hours=random.randint(0,24),\n",
    "                minutes=random.randint(0,60))).isoformat())\n",
    "        }\n",
    "    }\n",
    "    print(test)\n",
    "\n"
   ]
  },
  {
   "cell_type": "code",
   "execution_count": null,
   "metadata": {},
   "outputs": [],
   "source": []
  },
  {
   "cell_type": "code",
   "execution_count": null,
   "metadata": {},
   "outputs": [],
   "source": []
  }
 ],
 "metadata": {
  "kernelspec": {
   "display_name": "Python 3",
   "language": "python",
   "name": "python3"
  },
  "language_info": {
   "codemirror_mode": {
    "name": "ipython",
    "version": 3
   },
   "file_extension": ".py",
   "mimetype": "text/x-python",
   "name": "python",
   "nbconvert_exporter": "python",
   "pygments_lexer": "ipython3",
   "version": "3.7.4"
  },
  "pycharm": {
   "stem_cell": {
    "cell_type": "raw",
    "metadata": {
     "collapsed": false
    },
    "source": []
   }
  }
 },
 "nbformat": 4,
 "nbformat_minor": 1
}

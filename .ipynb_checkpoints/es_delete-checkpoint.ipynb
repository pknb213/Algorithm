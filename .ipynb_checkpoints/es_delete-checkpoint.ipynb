{
 "cells": [
  {
   "cell_type": "code",
   "execution_count": 1,
   "metadata": {
    "pycharm": {
     "is_executing": false
    }
   },
   "outputs": [],
   "source": [
    "from elasticsearch import Elasticsearch\n",
    "from elasticsearch import helpers\n",
    "import pprint\n",
    "\n",
    "es = Elasticsearch([\"13.125.246.197\", \"52.79.215.253\", \"52.79.250.228\"],\n",
    "                   http_auth=('elastic', 'rkwjs12#'),\n",
    "                   port=9200)\n",
    "es.info()\n",
    "pp = pprint.PrettyPrinter(indent=4)"
   ]
  },
  {
   "cell_type": "code",
   "execution_count": 2,
   "metadata": {
    "pycharm": {
     "is_executing": false,
     "name": "#%%\n"
    }
   },
   "outputs": [
    {
     "name": "stdout",
     "output_type": "stream",
     "text": [
      "{   '_shards': {'failed': 0, 'skipped': 0, 'successful': 1, 'total': 1},\n",
      "    'hits': {   'hits': [   {   '_id': 'L-Co1nUBupv03QKX0-Wq',\n",
      "                                '_index': 'iot-skmagic',\n",
      "                                '_score': 1.0,\n",
      "                                '_source': {   '@timestamp': '2020-11-17T09:58:49.043Z',\n",
      "                                               '@version': '1',\n",
      "                                               'beat': {   'hostname': 'research2',\n",
      "                                                           'name': 'research2',\n",
      "                                                           'version': '6.3.2'},\n",
      "                                               'geo_point': {   'lat': '%{deviceGpsLat}',\n",
      "                                                                'lon': '%{deviceGpsLong}'},\n",
      "                                               'host': {'name': 'research2'},\n",
      "                                               'input': {'type': 'log'},\n",
      "                                               'offset': 2197892,\n",
      "                                               'prospector': {'type': 'log'},\n",
      "                                               'service': 'skmagic',\n",
      "                                               'source': '/data/period_report/air/20201031/gateway4.5.log'},\n",
      "                                '_type': '_doc'}],\n",
      "                'max_score': 1.0,\n",
      "                'total': {'relation': 'gte', 'value': 10000}},\n",
      "    'timed_out': False,\n",
      "    'took': 0}\n"
     ]
    }
   ],
   "source": [
    "res = es.search(index=\"iot-skmagic\", body={'from':0, \n",
    "                                        'size': 1, \n",
    "                                        'query': {'match_all': { }}\n",
    "                                        })\n",
    "\n",
    "pp.pprint(res)"
   ]
  },
  {
   "cell_type": "code",
   "execution_count": 2,
   "metadata": {
    "pycharm": {
     "is_executing": false,
     "name": "#%%\n"
    }
   },
   "outputs": [
    {
     "name": "stdout",
     "output_type": "stream",
     "text": [
      "{   '_shards': {'failed': 0, 'skipped': 0, 'successful': 1, 'total': 1},\n",
      "    'count': 448769940}\n"
     ]
    }
   ],
   "source": [
    "res = es.count(index=\"iot-skmagic\")\n",
    "pp.pprint(res)"
   ]
  },
  {
   "cell_type": "code",
   "execution_count": 4,
   "metadata": {
    "pycharm": {
     "is_executing": false,
     "name": "#%%\n"
    }
   },
   "outputs": [
    {
     "ename": "TypeError",
     "evalue": "delete() got an unexpected keyword argument 'body'",
     "output_type": "error",
     "traceback": [
      "\u001b[1;31m---------------------------------------------------------------------------\u001b[0m",
      "\u001b[1;31mTypeError\u001b[0m                                 Traceback (most recent call last)",
      "\u001b[1;32m<ipython-input-4-f2e8433a775d>\u001b[0m in \u001b[0;36m<module>\u001b[1;34m\u001b[0m\n\u001b[0;32m      1\u001b[0m res = es.delete(index=\"iot-skmagic\", body={'from':0,\n\u001b[0;32m      2\u001b[0m                                            \u001b[1;34m'size'\u001b[0m\u001b[1;33m:\u001b[0m\u001b[1;36m10\u001b[0m\u001b[1;33m,\u001b[0m\u001b[1;33m\u001b[0m\u001b[1;33m\u001b[0m\u001b[0m\n\u001b[1;32m----> 3\u001b[1;33m                                            \u001b[1;34m'query'\u001b[0m\u001b[1;33m:\u001b[0m\u001b[1;33m{\u001b[0m\u001b[1;34m'match_all'\u001b[0m\u001b[1;33m:\u001b[0m \u001b[1;33m{\u001b[0m\u001b[1;33m}\u001b[0m\u001b[1;33m}\u001b[0m\u001b[1;33m\u001b[0m\u001b[1;33m\u001b[0m\u001b[0m\n\u001b[0m\u001b[0;32m      4\u001b[0m })\n\u001b[0;32m      5\u001b[0m \u001b[0mpp\u001b[0m\u001b[1;33m.\u001b[0m\u001b[0mpprint\u001b[0m\u001b[1;33m(\u001b[0m\u001b[0mres\u001b[0m\u001b[1;33m)\u001b[0m\u001b[1;33m\u001b[0m\u001b[1;33m\u001b[0m\u001b[0m\n",
      "\u001b[1;32m~\\Anaconda3\\lib\\site-packages\\elasticsearch\\client\\utils.py\u001b[0m in \u001b[0;36m_wrapped\u001b[1;34m(*args, **kwargs)\u001b[0m\n\u001b[0;32m     82\u001b[0m                 \u001b[1;32mif\u001b[0m \u001b[0mp\u001b[0m \u001b[1;32min\u001b[0m \u001b[0mkwargs\u001b[0m\u001b[1;33m:\u001b[0m\u001b[1;33m\u001b[0m\u001b[1;33m\u001b[0m\u001b[0m\n\u001b[0;32m     83\u001b[0m                     \u001b[0mparams\u001b[0m\u001b[1;33m[\u001b[0m\u001b[0mp\u001b[0m\u001b[1;33m]\u001b[0m \u001b[1;33m=\u001b[0m \u001b[0mkwargs\u001b[0m\u001b[1;33m.\u001b[0m\u001b[0mpop\u001b[0m\u001b[1;33m(\u001b[0m\u001b[0mp\u001b[0m\u001b[1;33m)\u001b[0m\u001b[1;33m\u001b[0m\u001b[1;33m\u001b[0m\u001b[0m\n\u001b[1;32m---> 84\u001b[1;33m             \u001b[1;32mreturn\u001b[0m \u001b[0mfunc\u001b[0m\u001b[1;33m(\u001b[0m\u001b[1;33m*\u001b[0m\u001b[0margs\u001b[0m\u001b[1;33m,\u001b[0m \u001b[0mparams\u001b[0m\u001b[1;33m=\u001b[0m\u001b[0mparams\u001b[0m\u001b[1;33m,\u001b[0m \u001b[1;33m**\u001b[0m\u001b[0mkwargs\u001b[0m\u001b[1;33m)\u001b[0m\u001b[1;33m\u001b[0m\u001b[1;33m\u001b[0m\u001b[0m\n\u001b[0m\u001b[0;32m     85\u001b[0m \u001b[1;33m\u001b[0m\u001b[0m\n\u001b[0;32m     86\u001b[0m         \u001b[1;32mreturn\u001b[0m \u001b[0m_wrapped\u001b[0m\u001b[1;33m\u001b[0m\u001b[1;33m\u001b[0m\u001b[0m\n",
      "\u001b[1;31mTypeError\u001b[0m: delete() got an unexpected keyword argument 'body'"
     ]
    }
   ],
   "source": [
    "res = es.delete(index=\"iot-skmagic\", body={'from':0,\n",
    "                                           'size':10,\n",
    "                                           'query':{'match_all': {}}\n",
    "})\n",
    "pp.pprint(res)\n"
   ]
  }
 ],
 "metadata": {
  "kernelspec": {
   "display_name": "Python 3",
   "language": "python",
   "name": "python3"
  },
  "language_info": {
   "codemirror_mode": {
    "name": "ipython",
    "version": 3
   },
   "file_extension": ".py",
   "mimetype": "text/x-python",
   "name": "python",
   "nbconvert_exporter": "python",
   "pygments_lexer": "ipython3",
   "version": "3.7.4"
  },
  "pycharm": {
   "stem_cell": {
    "cell_type": "raw",
    "metadata": {
     "collapsed": false
    },
    "source": []
   }
  }
 },
 "nbformat": 4,
 "nbformat_minor": 1
}

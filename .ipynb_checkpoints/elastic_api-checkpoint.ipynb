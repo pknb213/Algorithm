{
 "cells": [
  {
   "cell_type": "code",
   "execution_count": null,
   "metadata": {
    "pycharm": {
     "is_executing": true,
     "name": "#%%\n"
    }
   },
   "outputs": [],
   "source": [
    "def make_index(es, index_name):\n",
    "    if es.indices.exists(index=index_name):\n",
    "        es.indices.delete(index=index_name)\n",
    "    print(es.indices.create(index=index_name))\n",
    "    \n",
    "# index_name = \"python_test\"\n",
    "# make_index(es, index_name)"
   ]
  },
  {
   "cell_type": "code",
   "execution_count": null,
   "metadata": {
    "pycharm": {
     "is_executing": true,
     "name": "#%%\n"
    }
   },
   "outputs": [],
   "source": [
    "# res = es.search(index=index_name, body={'from':0, \n",
    "#                                         'size': 10, \n",
    "#                                         'query': {'match': { }}\n",
    "#                                         })\n",
    "# for r in res['hits']['hits']:\n",
    "#     print('score : ', res['_score'], 'source : ', res['_source'])\n",
    "# \n",
    "# print(\"res : \", res)"
   ]
  },
  {
   "cell_type": "code",
   "execution_count": null,
   "metadata": {
    "pycharm": {
     "is_executing": true,
     "name": "#%%#%%\n"
    }
   },
   "outputs": [],
   "source": [
    "from elasticsearch import Elasticsearch\n",
    "from elasticsearch import helpers\n",
    "import random\n",
    "import datetime\n",
    "\n",
    "es = Elasticsearch([\"13.125.246.197:9200\", \"52.79.215.253:9200\", \"52.79.250.228:9200\"])\n",
    "es.info()\n",
    "\n",
    "for i in range(0,30000):\n",
    "    asAccept = random.choice([\"\",\"접수\",\"수리중\",\"배송중\",\"완료\"])\n",
    "    if asAccept == None:\n",
    "        print(\"넌~\")\n",
    "    failureDiagnosis = random.choices(range(1,4), weights=[5,3,1])[0]\n",
    "    if failureDiagnosis == 2 or failureDiagnosis == 3:\n",
    "        error = 2\n",
    "        if failureDiagnosis == 2:\n",
    "            preDetection = 2\n",
    "            symptom = random.choices(range(1,7), weights=[4,3,2,2,2,1])[0]\n",
    "        else:\n",
    "            preDetection = 1\n",
    "            symptom = 0\n",
    "    else:\n",
    "        error = 1\n",
    "        preDetection = 1\n",
    "        symptom = 0\n",
    "    iot_set = {\n",
    "        # random.randomrange(x,y), random.choice(object)\n",
    "        \"index\" : random.choice([\"test-air-830\",\"test-air-831\",\"test-air-832\"]),\n",
    "        \"source\": {\n",
    "            \"deviceId\": random.randrange(20000, 23000),\n",
    "            \"anomalyDetection\": random.choices(range(1,3), weights=[9,2])[0], # 이상 감지\n",
    "            \"preDetection\": preDetection,      # 사전 감지\n",
    "            \"failureDiagnosis\": failureDiagnosis,     #고장 진단\n",
    "            \"asAccept\": random.choices([\"\",\"접수\",\"수리중\",\"배송중\"], weights=[8,2,1,1])[0],\n",
    "            \"temp\": random.randrange(20, 30),\n",
    "            \"humi\": random.randrange(10,80),\n",
    "            \"mac\": random.choice([\"A\",\"B\"]) + str(random.randrange(1000,2000)),\n",
    "            \"userAge\": random.randint(20, 50),\n",
    "            \"userGender\": random.choice([\"M\", \"F\"]),\n",
    "            \"store\": random.randint(1,5),\n",
    "            \"symptom\": symptom,\n",
    "            \"locations\": {\n",
    "                \"lon\": str(random.uniform(126.734086, 127.269311)),\n",
    "                \"lat\": str(random.uniform(37.413294, 37.715133))\n",
    "            },\n",
    "        },\n",
    "        \"fields\": {\n",
    "            \"reqTime\": str((datetime.datetime.utcnow() - datetime.timedelta(\n",
    "                days=random.randint(0,31), \n",
    "                hours=random.randint(0,24),\n",
    "                minutes=random.randint(0,60))).isoformat())\n",
    "        }\n",
    "    }\n",
    "    as_set = {\n",
    "        # random.randomrange(x,y), random.choice(object)\n",
    "        \"index\" : random.choice([\"test-air-830\",\"test-air-831\",\"test-air-832\"]),\n",
    "        \"source\": {\n",
    "            \"regist_number\": random.randint(1000, 1050),\n",
    "            \"receipt\": random.randint(1,3),\n",
    "            \"locations\": {\n",
    "                \"lon\": str(random.uniform(126.734086, 127.269311)),\n",
    "                \"lat\": str(random.uniform(37.413294, 37.715133))\n",
    "            }\n",
    "        },\n",
    "        \"fields\": {\n",
    "            \"reqTime\": str((datetime.datetime.utcnow() - datetime.timedelta(\n",
    "                days=random.randint(0,31), \n",
    "                hours=random.randint(0,24),\n",
    "                minutes=random.randint(0,60))).isoformat())\n",
    "        }\n",
    "    }\n",
    "    # print(iot_set)\n",
    "    # print(as_set)\n",
    "\n",
    "    es.index(index=\"python_iot_test\", body=iot_set)\n",
    "    es.index(index=\"python_as_test\", body=as_set)\n",
    "\n",
    "es.indices.refresh(index=\"python_iot_test\")\n",
    "es.indices.refresh(index=\"python_as_test\")"
   ]
  },
  {
   "cell_type": "code",
   "execution_count": null,
   "metadata": {},
   "outputs": [],
   "source": []
  }
 ],
 "metadata": {
  "kernelspec": {
   "display_name": "Python 3",
   "language": "python",
   "name": "python3"
  },
  "language_info": {
   "codemirror_mode": {
    "name": "ipython",
    "version": 2
   },
   "file_extension": ".py",
   "mimetype": "text/x-python",
   "name": "python",
   "nbconvert_exporter": "python",
   "pygments_lexer": "ipython2",
   "version": "2.7.6"
  },
  "pycharm": {
   "stem_cell": {
    "cell_type": "raw",
    "metadata": {
     "collapsed": false
    },
    "source": []
   }
  }
 },
 "nbformat": 4,
 "nbformat_minor": 1
}

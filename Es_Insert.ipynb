{
 "cells": [
  {
   "cell_type": "code",
   "execution_count": 14,
   "metadata": {
    "collapsed": true,
    "pycharm": {
     "is_executing": false
    }
   },
   "outputs": [
    {
     "name": "stdout",
     "text": [
      "{'name': 'els-1', 'cluster_name': 'elk-bigdata', 'cluster_uuid': 'J9cMv8YXRkeq0ThyNLAYYQ', 'version': {'number': '7.6.1', 'build_flavor': 'default', 'build_type': 'tar', 'build_hash': 'aa751e09be0a5072e8570670309b1f12348f023b', 'build_date': '2020-02-29T00:15:25.529771Z', 'build_snapshot': False, 'lucene_version': '8.4.0', 'minimum_wire_compatibility_version': '6.8.0', 'minimum_index_compatibility_version': '6.0.0-beta1'}, 'tagline': 'You Know, for Search'}\n",
      "{'acknowledged': True, 'shards_acknowledged': True, 'index': 'test_python_geo'}\n",
      "{'_index': 'test_python_geo', '_type': '_doc', '_id': 'iH6zBHMBsZuNOECpvlwP', '_version': 1, 'result': 'created', '_shards': {'total': 2, 'successful': 1, 'failed': 0}, '_seq_no': 0, '_primary_term': 1}\n"
     ],
     "output_type": "stream"
    }
   ],
   "source": [
    "from elasticsearch import Elasticsearch\n",
    "from elasticsearch import helpers\n",
    "import time\n",
    "\n",
    "es = Elasticsearch([\"13.125.246.197\", \"52.79.215.253\", \"52.79.250.228\"],\n",
    "                   http_auth=('elastic', 'rkwjs12#'),\n",
    "                   port=9200)\n",
    "print(es.info())\n",
    "\n",
    "\n",
    "def make_index(_es, index_name):\n",
    "        if _es.indices.exists(index=index_name):\n",
    "            _es.indices.delete(index=index_name)\n",
    "        print(_es.indices.create(index=index_name))\n",
    "\n",
    "index = \"test_python_geo\"\n",
    "make_index(es, index)\n",
    "\n",
    "doc = {\n",
    "    \"date\": 20200630064000,\n",
    "    \"geo\": {\n",
    "        \"lon\": '127.231231234',\n",
    "        \"lat\": '37.16246243423'\n",
    "    },\n",
    "    \"loaa\": [\n",
    "        {\n",
    "            \"lon\": '127.251231234',\n",
    "            \"lat\": '37.14246243423'\n",
    "        },\n",
    "        {\n",
    "            \"lon\": '127.216231234',\n",
    "            \"lat\": '37.13246243423'\n",
    "        }\n",
    "    ],\n",
    "    \"lott\": '12424'\n",
    "}\n",
    "\n",
    "r = es.index(index=index, body=doc)\n",
    "print(r)"
   ]
  }
 ],
 "metadata": {
  "kernelspec": {
   "display_name": "Python 3",
   "language": "python",
   "name": "python3"
  },
  "language_info": {
   "codemirror_mode": {
    "name": "ipython",
    "version": 2
   },
   "file_extension": ".py",
   "mimetype": "text/x-python",
   "name": "python",
   "nbconvert_exporter": "python",
   "pygments_lexer": "ipython2",
   "version": "2.7.6"
  },
  "pycharm": {
   "stem_cell": {
    "cell_type": "raw",
    "source": [],
    "metadata": {
     "collapsed": false
    }
   }
  }
 },
 "nbformat": 4,
 "nbformat_minor": 0
}